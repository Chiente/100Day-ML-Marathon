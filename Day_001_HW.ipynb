{
  "nbformat": 4,
  "nbformat_minor": 0,
  "metadata": {
    "anaconda-cloud": {},
    "kernelspec": {
      "display_name": "Python 3",
      "language": "python",
      "name": "python3"
    },
    "language_info": {
      "codemirror_mode": {
        "name": "ipython",
        "version": 3
      },
      "file_extension": ".py",
      "mimetype": "text/x-python",
      "name": "python",
      "nbconvert_exporter": "python",
      "pygments_lexer": "ipython3",
      "version": "3.7.0"
    },
    "colab": {
      "name": "Day_001_HW.ipynb",
      "version": "0.3.2",
      "provenance": [],
      "collapsed_sections": []
    }
  },
  "cells": [
    {
      "cell_type": "markdown",
      "metadata": {
        "id": "FaMKg2u2LGD4",
        "colab_type": "text"
      },
      "source": [
        "## 練習時間\n",
        "#### 請寫一個函式用來計算 Mean Square Error\n",
        "$ MSE = \\frac{1}{n}\\sum_{i=1}^{n}{(Y_i - \\hat{Y}_i)^2} $\n",
        "\n",
        "### Hint: [如何取平方](https://googoodesign.gitbooks.io/-ezpython/unit-1.html)"
      ]
    },
    {
      "cell_type": "markdown",
      "metadata": {
        "id": "q0fHgQN4LGD6",
        "colab_type": "text"
      },
      "source": [
        "# [作業目標]\n",
        "- 仿造範例的MAE函數, 自己寫一個MSE函數(參考上面公式)"
      ]
    },
    {
      "cell_type": "markdown",
      "metadata": {
        "id": "mWCLVKoCLGD7",
        "colab_type": "text"
      },
      "source": [
        "# [作業重點]\n",
        "- 注意程式的縮排\n",
        "- 是否能將數學公式, 轉換為 Python 的函式組合? (In[2], Out[2])"
      ]
    },
    {
      "cell_type": "code",
      "metadata": {
        "id": "xXPi3g3OLGD7",
        "colab_type": "code",
        "colab": {}
      },
      "source": [
        "# 載入基礎套件與代稱\n",
        "import numpy as np\n",
        "import matplotlib.pyplot as plt"
      ],
      "execution_count": 0,
      "outputs": []
    },
    {
      "cell_type": "code",
      "metadata": {
        "id": "cLolDbvpLGD_",
        "colab_type": "code",
        "colab": {}
      },
      "source": [
        "def mean_absolute_error(y, yp):\n",
        "    \"\"\"\n",
        "    計算 MAE\n",
        "    Args:\n",
        "        - y: 實際值\n",
        "        - yp: 預測值\n",
        "    Return:\n",
        "        - mae: MAE\n",
        "    \"\"\"\n",
        "    mae = MAE = sum(abs(y - yp)) / len(y)\n",
        "    return mae\n",
        "\n",
        "# 定義 mean_squared_error 這個函數, 計算並傳回 MSE\n",
        "def mean_squared_error(y, yp):\n",
        "    \"\"\"\n",
        "    請完成這個 Function 後往下執行\n",
        "    \"\"\"\n",
        "    mse = MSE = sum((y - yp)**2) / len(y)\n",
        "    return mse\n"
      ],
      "execution_count": 0,
      "outputs": []
    },
    {
      "cell_type": "code",
      "metadata": {
        "id": "ar1OEGJsLGEB",
        "colab_type": "code",
        "colab": {
          "base_uri": "https://localhost:8080/",
          "height": 281
        },
        "outputId": "2ed5ee6d-40d8-42cc-8b46-339bc99776c3"
      },
      "source": [
        "# 與範例相同, 不另外解說\n",
        "w = 3\n",
        "b = 0.5\n",
        "x_lin = np.linspace(0, 100, 101)\n",
        "y = (x_lin + np.random.randn(101) * 5) * w + b\n",
        "\n",
        "plt.plot(x_lin, y, 'b.', label = 'data points')\n",
        "plt.title(\"Assume we have data points\")\n",
        "plt.legend(loc = 2)\n",
        "plt.show()"
      ],
      "execution_count": 3,
      "outputs": [
        {
          "output_type": "display_data",
          "data": {
            "image/png": "[encoded data removed]",
            "text/plain": [
              "<Figure size 432x288 with 1 Axes>"
            ]
          },
          "metadata": {
            "tags": []
          }
        }
      ]
    },
    {
      "cell_type": "code",
      "metadata": {
        "id": "byL8yEC0LGEE",
        "colab_type": "code",
        "colab": {
          "base_uri": "https://localhost:8080/",
          "height": 281
        },
        "outputId": "0054e756-d97c-44aa-a373-2e87ab861eec"
      },
      "source": [
        "# 與範例相同, 不另外解說\n",
        "y_hat = x_lin * w + b\n",
        "plt.plot(x_lin, y, 'b.', label = 'data')\n",
        "plt.plot(x_lin, y_hat, 'r-', label = 'prediction')\n",
        "plt.title(\"Assume we have data points (And the prediction)\")\n",
        "plt.legend(loc = 2)\n",
        "plt.show()"
      ],
      "execution_count": 4,
      "outputs": [
        {
          "output_type": "display_data",
          "data": {
            "image/png": "[encoded data removed]",
            "text/plain": [
              "<Figure size 432x288 with 1 Axes>"
            ]
          },
          "metadata": {
            "tags": []
          }
        }
      ]
    },
    {
      "cell_type": "code",
      "metadata": {
        "id": "Z6q35Cb6LGEH",
        "colab_type": "code",
        "colab": {
          "base_uri": "https://localhost:8080/",
          "height": 51
        },
        "outputId": "93d8ec0a-11f9-4305-a5ef-2100c018cc93"
      },
      "source": [
        "# 執行 Function, 確認有沒有正常執行\n",
        "MSE = mean_squared_error(y, y_hat)\n",
        "MAE = mean_absolute_error(y, y_hat)\n",
        "print(\"The Mean squared error is %.3f\" % (MSE))\n",
        "print(\"The Mean absolute error is %.3f\" % (MAE))"
      ],
      "execution_count": 5,
      "outputs": [
        {
          "output_type": "stream",
          "text": [
            "The Mean squared error is 187.169\n",
            "The Mean absolute error is 10.593\n"
          ],
          "name": "stdout"
        }
      ]
    },
    {
      "cell_type": "markdown",
      "metadata": {
        "id": "pH1u8GByLGEJ",
        "colab_type": "text"
      },
      "source": [
        "# [作業2]\n",
        "\n",
        "請上 Kaggle, 在 Competitions 或 Dataset 中找一組競賽或資料並寫下：\n",
        "\n",
        "1. 你選的這組資料為何重要 <br>\n",
        "Ans: 我選的題目辨識kuzushij這種只在古代使用的日本草書文字(https://www.kaggle.com/c/kuzushiji-recognition)\n",
        "這個題目有助於現代人瞭解日本古代的書籍及歷史文件,故涉及了公眾利益,也能對世界文化的傳播做出貢獻。\n",
        "\n",
        "\n",
        "2. 資料從何而來 (tips: 譬如提供者是誰、以什麼方式蒐集) <br>\n",
        "Ans: 資料由日本的三個機構提供: 人文開放數據中心（CODH）、國立日本文學研究所（NIJL）、國家信息學研究所（NII）,\n",
        "由紙本掃描轉換為電子檔。\n",
        "\n",
        "3. 蒐集而來的資料型態為何 <br>\n",
        "Ans: 主要為非結構化的JPG圖像檔\n",
        "\n",
        "4. 這組資料想解決的問題如何評估 <br>\n",
        "Ans: 主要是做影像辨識及分類, 涉及了深度學習, 衡量指標為正確率\n",
        "\n",
        "# [作業3]\n",
        "\n",
        "想像你經營一個自由載客車隊，你希望能透過數據分析以提升業績，請你思考並描述你如何規劃整體的分析/解決方案：\n",
        "\n",
        "1. 核心問題為何 (tips：如何定義 「提升業績 & 你的假設」) <br>\n",
        "Ans: 由於目標是提升業績, 對於車隊來說就是向顧客收取的車資, 如果我們假設載客路程越長則收取車資越多, \n",
        "那麼也可以是由載客點至目的地的距離或時間\n",
        "\n",
        "2. 資料從何而來 (tips：哪些資料可能會對你想問的問題產生影響 & 資料如何蒐集) <br>\n",
        "Ans: 對問題有影響的資料可能有,客戶的類型(姓別、年齡等),載客的地點、時間, 車輛的種類等, 如果由客服中心叫車,\n",
        "那麼可請客服人員協助詢問客戶或透過叫車軟體由客戶自行輸入,如果能在車輛安裝設備,也可能透過GPS或行車監控設備\n",
        "蒐集資料。\n",
        "\n",
        "3. 蒐集而來的資料型態為何 <br>\n",
        "Ans: 應為結構化資料, 包含數值或分類用的文字標籤。\n",
        "\n",
        "4. 你要回答的問題，其如何評估 (tips：你的假設如何驗證) <br>\n",
        "Ans: 因為評估目標-業績具體應為車資或路程長度,為數值資料,比較接近迴歸問題, MAE, RMSE,應為可用指標"
      ]
    }
  ]
}