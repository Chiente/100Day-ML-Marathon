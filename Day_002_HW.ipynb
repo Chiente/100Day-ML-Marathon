{
  "nbformat": 4,
  "nbformat_minor": 0,
  "metadata": {
    "kernelspec": {
      "display_name": "Python 3",
      "language": "python",
      "name": "python3"
    },
    "language_info": {
      "codemirror_mode": {
        "name": "ipython",
        "version": 3
      },
      "file_extension": ".py",
      "mimetype": "text/x-python",
      "name": "python",
      "nbconvert_exporter": "python",
      "pygments_lexer": "ipython3",
      "version": "3.6.6"
    },
    "colab": {
      "name": "Day_002_HW.ipynb",
      "version": "0.3.2",
      "provenance": [],
      "collapsed_sections": [],
      "include_colab_link": true
    }
  },
  "cells": [
    {
      "cell_type": "markdown",
      "metadata": {
        "id": "view-in-github",
        "colab_type": "text"
      },
      "source": [
        "<a href=\"https://colab.research.google.com/github/Chiente/100Day-ML-Marathon/blob/master/Day_002_HW.ipynb\" target=\"_parent\"><img src=\"https://colab.research.google.com/assets/colab-badge.svg\" alt=\"Open In Colab\"/></a>"
      ]
    },
    {
      "cell_type": "markdown",
      "metadata": {
        "id": "IpGN-ROjqm3Q",
        "colab_type": "text"
      },
      "source": [
        "## [作業目標]\n",
        "了解機器學習適合應用的領域與範疇。"
      ]
    },
    {
      "cell_type": "markdown",
      "metadata": {
        "id": "zKIqSuIgqm3R",
        "colab_type": "text"
      },
      "source": [
        "## [作業重點]\n",
        "透過瞭解機器學習的運作方式，找出非常適用機器學習應用的領域及其原因"
      ]
    },
    {
      "cell_type": "markdown",
      "metadata": {
        "id": "weTmtQVmqm3S",
        "colab_type": "text"
      },
      "source": [
        "## 作業\n",
        "請找出一個你認為機器學習可以發光發熱的領域並闡述原因? "
      ]
    },
    {
      "cell_type": "markdown",
      "metadata": {
        "id": "SNVUcvcGrmLI",
        "colab_type": "text"
      },
      "source": [
        "我覺得工廠設備的預測保養是機器學習可以發光發熱的領域原因說明如下:\n",
        "\n",
        "\n",
        "1.   工廠設備故障,輕則停工造成生產損失,重則發生工安意外造成人員傷亡,如果能主動安排停機檢修,不但能避免故障發生,對於人力、物力的節省也很巨大,所以業主願意積極投資軟硬體於這項領域。\n",
        "2.   目前許多設備都已加裝感應裝置並有相關軟體蒐集運轉數據,故數據的取得沒有問題。\n",
        "3.   設備故障有明確的數據結果可以確認,甚至於部份的設備商也有分析軟體可以佐證,非常適合運用監督式學習來建立模型。\n",
        "4.   保養資料與資材、生產層面都有關係,也是ERP系統的一部份,未來還有許多衍生領域可以發展。\n",
        "\n"
      ]
    }
  ]
}